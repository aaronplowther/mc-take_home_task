{
 "cells": [
  {
   "cell_type": "markdown",
   "id": "e1fe51f4-446a-4ac4-9686-b56ece6bdca7",
   "metadata": {},
   "source": [
    "# Mastercard, Digital assets take home task\n",
    "\n",
    "## Aaron Lowther"
   ]
  },
  {
   "cell_type": "code",
   "execution_count": 1,
   "id": "70a685b7-0490-40bb-9c67-da6053deb202",
   "metadata": {},
   "outputs": [],
   "source": [
    "import pandas as pd\n",
    "import numpy as np\n",
    "\n",
    "# import relative to notebook locaiton\n",
    "exec(open(\"../py/classifier.py\").read())\n",
    "\n",
    "# proportion to use for training models\n",
    "prop_test = 0.25\n",
    "\n",
    "# load the data\n",
    "data = pd.read_csv(\"../data/BitcoinHeistData.csv\")\n",
    "\n",
    "# add binary class\n",
    "data[\"ransomware\"] = (data[\"label\"] != \"white\").astype(int)\n",
    "\n",
    "# feature names\n",
    "name_features = [\"length\", \"weight\", \"count\", \"looped\", \"neighbors\", \"income\"]\n",
    "\n",
    "# outcome name\n",
    "name_outcome = \"ransomware\"\n",
    "\n",
    "# split data into training and test datasets\n",
    "X_train, X_test, y_train, y_test = train_test_split(\n",
    "    data[name_features].copy(), \n",
    "    data[name_outcome].copy(), \n",
    "    test_size=prop_test, \n",
    "    random_state=56465\n",
    ")\n",
    "\n",
    "# initialise the LogisticRegressionRansomwareClassifier\n",
    "classifier = LogisticRegressionRansomwareClassifier()\n",
    "\n",
    "# train the classifer\n",
    "classifier.train(X_train, y_train)"
   ]
  },
  {
   "cell_type": "markdown",
   "id": "a7bf8b99-1cca-4a84-b697-b298c2dd417d",
   "metadata": {},
   "source": [
    "# Data properties"
   ]
  },
  {
   "cell_type": "code",
   "execution_count": 2,
   "id": "bf6b6394-47fd-4f44-ad50-c31f628d27ef",
   "metadata": {},
   "outputs": [
    {
     "name": "stdout",
     "output_type": "stream",
     "text": [
      "number of ransomware address 41413\n",
      "data.shape: (2916697, 11)\n",
      "number of missing values: 0\n"
     ]
    }
   ],
   "source": [
    "print(\"number of ransomware address\", sum(data[\"ransomware\"]))\n",
    "print(\"data.shape:\", data.shape)\n",
    "print(\"number of missing values:\", sum(data.isna().sum()))"
   ]
  },
  {
   "cell_type": "markdown",
   "id": "2e56095e-c778-4121-862d-eb16dff61ba0",
   "metadata": {},
   "source": [
    "# Training data properies"
   ]
  },
  {
   "cell_type": "code",
   "execution_count": 3,
   "id": "d0c30883-f2c3-40fa-96de-6564d5be366d",
   "metadata": {},
   "outputs": [
    {
     "name": "stdout",
     "output_type": "stream",
     "text": [
      "number of observations: 2187522\n",
      "number of ransomware addresses 30926\n"
     ]
    }
   ],
   "source": [
    "print(\"number of observations:\", X_train.shape[0])\n",
    "print(\"number of ransomware addresses\", sum(y_train))"
   ]
  },
  {
   "cell_type": "markdown",
   "id": "5d212628-ed33-4f4b-b743-0db62d888b20",
   "metadata": {},
   "source": [
    "# Test data properties"
   ]
  },
  {
   "cell_type": "code",
   "execution_count": 4,
   "id": "e154f10f-ca6c-4f41-911f-63ecede98102",
   "metadata": {},
   "outputs": [
    {
     "name": "stdout",
     "output_type": "stream",
     "text": [
      "number of observations: 729175\n",
      "number of ransomware addresses 10487\n"
     ]
    }
   ],
   "source": [
    "print(\"number of observations:\", X_test.shape[0])\n",
    "print(\"number of ransomware addresses\", sum(y_test))"
   ]
  },
  {
   "cell_type": "markdown",
   "id": "3b3ce1b7-aade-4825-b2d3-693a3002fc81",
   "metadata": {},
   "source": [
    "# Evaluate performance"
   ]
  },
  {
   "cell_type": "code",
   "execution_count": 5,
   "id": "cb66bd51-c9d6-4d1d-80ba-c78e8db00da5",
   "metadata": {},
   "outputs": [
    {
     "name": "stdout",
     "output_type": "stream",
     "text": [
      "number predicted ransomdeware addresses: 3\n",
      "true value of class where address label predicted to by ransomware\n",
      "2819237    0\n",
      "2746651    0\n",
      "2775627    0\n",
      "Name: ransomware, dtype: int64\n"
     ]
    }
   ],
   "source": [
    "predictions = classifier.predict(X_test)\n",
    "print(\"number predicted ransomdeware addresses:\", sum(predictions))\n",
    "print(\"true value of class where address label predicted to by ransomware\")\n",
    "print(y_test.loc[y_test.index[np.where(predictions)]])"
   ]
  },
  {
   "cell_type": "markdown",
   "id": "ad941015-1d29-4f28-8104-f50ea04ff6bf",
   "metadata": {},
   "source": [
    "# Model coefficients"
   ]
  },
  {
   "cell_type": "code",
   "execution_count": 11,
   "id": "d2e34450-9593-4854-b5ec-cfca1888c756",
   "metadata": {},
   "outputs": [
    {
     "data": {
      "text/html": [
       "<div>\n",
       "<style scoped>\n",
       "    .dataframe tbody tr th:only-of-type {\n",
       "        vertical-align: middle;\n",
       "    }\n",
       "\n",
       "    .dataframe tbody tr th {\n",
       "        vertical-align: top;\n",
       "    }\n",
       "\n",
       "    .dataframe thead th {\n",
       "        text-align: right;\n",
       "    }\n",
       "</style>\n",
       "<table border=\"1\" class=\"dataframe\">\n",
       "  <thead>\n",
       "    <tr style=\"text-align: right;\">\n",
       "      <th></th>\n",
       "      <th>feature_name</th>\n",
       "      <th>coef</th>\n",
       "    </tr>\n",
       "  </thead>\n",
       "  <tbody>\n",
       "    <tr>\n",
       "      <th>0</th>\n",
       "      <td>length</td>\n",
       "      <td>0.036305</td>\n",
       "    </tr>\n",
       "    <tr>\n",
       "      <th>1</th>\n",
       "      <td>weight</td>\n",
       "      <td>0.135168</td>\n",
       "    </tr>\n",
       "    <tr>\n",
       "      <th>2</th>\n",
       "      <td>count</td>\n",
       "      <td>-0.020003</td>\n",
       "    </tr>\n",
       "    <tr>\n",
       "      <th>3</th>\n",
       "      <td>looped</td>\n",
       "      <td>-0.300122</td>\n",
       "    </tr>\n",
       "    <tr>\n",
       "      <th>4</th>\n",
       "      <td>neighbors</td>\n",
       "      <td>-0.026045</td>\n",
       "    </tr>\n",
       "    <tr>\n",
       "      <th>5</th>\n",
       "      <td>income</td>\n",
       "      <td>-15.445620</td>\n",
       "    </tr>\n",
       "    <tr>\n",
       "      <th>6</th>\n",
       "      <td>intercept</td>\n",
       "      <td>-4.577846</td>\n",
       "    </tr>\n",
       "  </tbody>\n",
       "</table>\n",
       "</div>"
      ],
      "text/plain": [
       "  feature_name       coef\n",
       "0       length   0.036305\n",
       "1       weight   0.135168\n",
       "2        count  -0.020003\n",
       "3       looped  -0.300122\n",
       "4    neighbors  -0.026045\n",
       "5       income -15.445620\n",
       "6    intercept  -4.577846"
      ]
     },
     "execution_count": 11,
     "metadata": {},
     "output_type": "execute_result"
    }
   ],
   "source": [
    "pd.DataFrame(\n",
    "    {\"feature_name\" : list(classifier.model.feature_names_in_) + [\"intercept\"],\n",
    "     \"coef\" : list(classifier.model.coef_.squeeze()) + list(classifier.model.intercept_)\n",
    "    }\n",
    ")"
   ]
  },
  {
   "cell_type": "code",
   "execution_count": 12,
   "id": "e19a2254-6e6c-4eeb-abe4-67afc2a62ac4",
   "metadata": {},
   "outputs": [
    {
     "name": "stdout",
     "output_type": "stream",
     "text": [
      "[718685      3  10487      0]\n"
     ]
    }
   ],
   "source": [
    "print(confusion_matrix(y_test, classifier.predict(X_test)).ravel())"
   ]
  }
 ],
 "metadata": {
  "kernelspec": {
   "display_name": "Python 3 (ipykernel)",
   "language": "python",
   "name": "python3"
  },
  "language_info": {
   "codemirror_mode": {
    "name": "ipython",
    "version": 3
   },
   "file_extension": ".py",
   "mimetype": "text/x-python",
   "name": "python",
   "nbconvert_exporter": "python",
   "pygments_lexer": "ipython3",
   "version": "3.8.10"
  }
 },
 "nbformat": 4,
 "nbformat_minor": 5
}
